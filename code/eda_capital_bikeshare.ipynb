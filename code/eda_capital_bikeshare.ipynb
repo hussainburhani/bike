{
 "cells": [
  {
   "cell_type": "markdown",
   "metadata": {},
   "source": [
    "## Exploratory data analysis (EDA)"
   ]
  },
  {
   "cell_type": "markdown",
   "metadata": {},
   "source": [
    "The process of exploring the dataset and garnering an appreciation of the variables, the observations, and the interaction of these variables and observations with each other and amongst themselves through visualizations, investigation, and summary statistics."
   ]
  },
  {
   "cell_type": "markdown",
   "metadata": {},
   "source": [
    "### Import libraries and set parameters"
   ]
  },
  {
   "cell_type": "code",
   "execution_count": 1,
   "metadata": {},
   "outputs": [],
   "source": [
    "import numpy as np\n",
    "import pandas as pd\n",
    "import matplotlib.pyplot as plt\n",
    "import seaborn as sns\n",
    "\n",
    "import datetime\n",
    "import glob\n",
    "\n",
    "import warnings\n",
    "warnings.filterwarnings('ignore')\n",
    "pd.options.display.max_columns = 5_000\n",
    "sns.set(style=\"darkgrid\")\n",
    "%matplotlib inline"
   ]
  },
  {
   "cell_type": "markdown",
   "metadata": {},
   "source": [
    "### Define functions to be used in this notebook"
   ]
  },
  {
   "cell_type": "markdown",
   "metadata": {},
   "source": [
    "#### Function [prepare_data]: Rename and rearrange columns of bike dataset and convert columns to datetime format"
   ]
  },
  {
   "cell_type": "code",
   "execution_count": 2,
   "metadata": {},
   "outputs": [],
   "source": [
    "# Function [prepare_data]: Rename and rearrange columns of bike dataset and convert columns to datetime format\n",
    "#  df: dataframe object\n",
    "def prepare_data(df):\n",
    "    # Convert column names to lowercase with spaces replaced by underscores\n",
    "    df.columns = df.columns.str.lower().str.replace(' ', '_').tolist() \n",
    "    # Convert start_time and end_time columns to datetime datatype\n",
    "    df[['start_date', 'end_date']] = df[['start_date', 'end_date']].apply(pd.to_datetime) \n",
    "    # Rename some columns to more representative names\n",
    "    df = df.rename(columns={'start_date': 'start_time', 'end_date': 'end_time', 'duration': 'duration_seconds'}) \n",
    "    # Rearrange columns\n",
    "    df = df[['bike_number', 'member_type', 'start_station_number', 'start_station', 'end_station_number', 'end_station', 'start_time', 'end_time', 'duration_seconds']]\n",
    "    return df"
   ]
  },
  {
   "cell_type": "markdown",
   "metadata": {},
   "source": [
    "### Dataset description"
   ]
  },
  {
   "cell_type": "markdown",
   "metadata": {},
   "source": [
    "#### Dataset\n",
    "Dataset from Capital Bikeshare, a bikesharing platform in Washington DC.  \n",
    "Source: https://www.capitalbikeshare.com/system-data   \n",
    "Format: Comma delimited files (csv) by month for 12 months in 2018\n",
    "\n",
    "#### Data table\n",
    "- Bike number: Identification number unique to a bike  \n",
    "- Member type: Member Type – Indicates whether user was a \"registered\" member (Annual Member, 30-Day Member or Day Key Member) or a \"casual\" rider (Single Trip, 24-Hour Pass, 3-Day Pass or 5-Day Pass)  \n",
    "- Start station number: Start station number  \n",
    "- Start station: Starting station name  \n",
    "- End station number: End station number  \n",
    "- End station: End station name  \n",
    "- Start time: Start time includes start date in datetime format  \n",
    "- End time: End time includes start date in datetime format  \n",
    "- Duration time: Duration of trip in datetime format  \n",
    "- Duration seconds: Duration of trip in seconds  "
   ]
  },
  {
   "cell_type": "markdown",
   "metadata": {},
   "source": [
    "### Gather and mung data"
   ]
  },
  {
   "cell_type": "code",
   "execution_count": 3,
   "metadata": {},
   "outputs": [],
   "source": [
    "# Dataset from all months in 2018\n",
    "\n",
    "# files = glob.glob(r'./data/capital_bikeshare/*-capitalbikeshare-tripdata.csv')\n",
    "# file_list = []\n",
    "# for file in files:\n",
    "#     df = pd.read_csv(file, index_col=None, header=0)\n",
    "#     file_list.append(df)\n",
    "# df = pd.concat(file_list, axis=0, ignore_index=True)"
   ]
  },
  {
   "cell_type": "code",
   "execution_count": 4,
   "metadata": {},
   "outputs": [],
   "source": [
    "# Dataset from one month in 2018\n",
    "\n",
    "df = pd.read_csv('../data/capital_bikeshare/201812-capitalbikeshare-tripdata.csv')"
   ]
  },
  {
   "cell_type": "code",
   "execution_count": 5,
   "metadata": {},
   "outputs": [
    {
     "name": "stdout",
     "output_type": "stream",
     "text": [
      "<class 'pandas.core.frame.DataFrame'>\n",
      "RangeIndex: 158853 entries, 0 to 158852\n",
      "Data columns (total 9 columns):\n",
      "Duration                158853 non-null int64\n",
      "Start date              158853 non-null object\n",
      "End date                158853 non-null object\n",
      "Start station number    158853 non-null int64\n",
      "Start station           158853 non-null object\n",
      "End station number      158853 non-null int64\n",
      "End station             158853 non-null object\n",
      "Bike number             158853 non-null object\n",
      "Member type             158853 non-null object\n",
      "dtypes: int64(3), object(6)\n",
      "memory usage: 10.9+ MB\n"
     ]
    }
   ],
   "source": [
    "df.info()"
   ]
  },
  {
   "cell_type": "markdown",
   "metadata": {},
   "source": [
    "### Exploratory data analysis (EDA)"
   ]
  },
  {
   "cell_type": "code",
   "execution_count": 6,
   "metadata": {},
   "outputs": [],
   "source": [
    "# Rename and rearrange columns.\n",
    "df = prepare_data(df)"
   ]
  },
  {
   "cell_type": "code",
   "execution_count": 7,
   "metadata": {},
   "outputs": [
    {
     "name": "stdout",
     "output_type": "stream",
     "text": [
      "<class 'pandas.core.frame.DataFrame'>\n",
      "RangeIndex: 158853 entries, 0 to 158852\n",
      "Data columns (total 9 columns):\n",
      "bike_number             158853 non-null object\n",
      "member_type             158853 non-null object\n",
      "start_station_number    158853 non-null int64\n",
      "start_station           158853 non-null object\n",
      "end_station_number      158853 non-null int64\n",
      "end_station             158853 non-null object\n",
      "start_time              158853 non-null datetime64[ns]\n",
      "end_time                158853 non-null datetime64[ns]\n",
      "duration_seconds        158853 non-null int64\n",
      "dtypes: datetime64[ns](2), int64(3), object(4)\n",
      "memory usage: 10.9+ MB\n"
     ]
    }
   ],
   "source": [
    "# Display basic information about df including dimensions, data types, and null values\n",
    "df.info()"
   ]
  },
  {
   "cell_type": "code",
   "execution_count": 8,
   "metadata": {},
   "outputs": [
    {
     "data": {
      "text/html": [
       "<div>\n",
       "<style>\n",
       "    .dataframe thead tr:only-child th {\n",
       "        text-align: right;\n",
       "    }\n",
       "\n",
       "    .dataframe thead th {\n",
       "        text-align: left;\n",
       "    }\n",
       "\n",
       "    .dataframe tbody tr th {\n",
       "        vertical-align: top;\n",
       "    }\n",
       "</style>\n",
       "<table border=\"1\" class=\"dataframe\">\n",
       "  <thead>\n",
       "    <tr style=\"text-align: right;\">\n",
       "      <th></th>\n",
       "      <th>bike_number</th>\n",
       "      <th>member_type</th>\n",
       "      <th>start_station_number</th>\n",
       "      <th>start_station</th>\n",
       "      <th>end_station_number</th>\n",
       "      <th>end_station</th>\n",
       "      <th>start_time</th>\n",
       "      <th>end_time</th>\n",
       "      <th>duration_seconds</th>\n",
       "    </tr>\n",
       "  </thead>\n",
       "  <tbody>\n",
       "    <tr>\n",
       "      <th>0</th>\n",
       "      <td>W21477</td>\n",
       "      <td>Member</td>\n",
       "      <td>31203</td>\n",
       "      <td>14th &amp; Rhode Island Ave NW</td>\n",
       "      <td>31116</td>\n",
       "      <td>California St &amp; Florida Ave NW</td>\n",
       "      <td>2018-12-01 00:00:44</td>\n",
       "      <td>2018-12-01 00:13:54</td>\n",
       "      <td>790</td>\n",
       "    </tr>\n",
       "    <tr>\n",
       "      <th>1</th>\n",
       "      <td>W22810</td>\n",
       "      <td>Member</td>\n",
       "      <td>31203</td>\n",
       "      <td>14th &amp; Rhode Island Ave NW</td>\n",
       "      <td>31116</td>\n",
       "      <td>California St &amp; Florida Ave NW</td>\n",
       "      <td>2018-12-01 00:00:55</td>\n",
       "      <td>2018-12-01 00:13:46</td>\n",
       "      <td>771</td>\n",
       "    </tr>\n",
       "    <tr>\n",
       "      <th>2</th>\n",
       "      <td>W21144</td>\n",
       "      <td>Member</td>\n",
       "      <td>31203</td>\n",
       "      <td>14th &amp; Rhode Island Ave NW</td>\n",
       "      <td>31116</td>\n",
       "      <td>California St &amp; Florida Ave NW</td>\n",
       "      <td>2018-12-01 00:00:55</td>\n",
       "      <td>2018-12-01 00:13:51</td>\n",
       "      <td>775</td>\n",
       "    </tr>\n",
       "    <tr>\n",
       "      <th>3</th>\n",
       "      <td>W23321</td>\n",
       "      <td>Member</td>\n",
       "      <td>31203</td>\n",
       "      <td>14th &amp; Rhode Island Ave NW</td>\n",
       "      <td>31116</td>\n",
       "      <td>California St &amp; Florida Ave NW</td>\n",
       "      <td>2018-12-01 00:01:08</td>\n",
       "      <td>2018-12-01 00:13:39</td>\n",
       "      <td>750</td>\n",
       "    </tr>\n",
       "    <tr>\n",
       "      <th>4</th>\n",
       "      <td>W22304</td>\n",
       "      <td>Member</td>\n",
       "      <td>31124</td>\n",
       "      <td>14th &amp; Irving St NW</td>\n",
       "      <td>31102</td>\n",
       "      <td>11th &amp; Kenyon St NW</td>\n",
       "      <td>2018-12-01 00:02:45</td>\n",
       "      <td>2018-12-01 00:05:11</td>\n",
       "      <td>146</td>\n",
       "    </tr>\n",
       "  </tbody>\n",
       "</table>\n",
       "</div>"
      ],
      "text/plain": [
       "  bike_number member_type  start_station_number               start_station  \\\n",
       "0      W21477      Member                 31203  14th & Rhode Island Ave NW   \n",
       "1      W22810      Member                 31203  14th & Rhode Island Ave NW   \n",
       "2      W21144      Member                 31203  14th & Rhode Island Ave NW   \n",
       "3      W23321      Member                 31203  14th & Rhode Island Ave NW   \n",
       "4      W22304      Member                 31124         14th & Irving St NW   \n",
       "\n",
       "   end_station_number                     end_station          start_time  \\\n",
       "0               31116  California St & Florida Ave NW 2018-12-01 00:00:44   \n",
       "1               31116  California St & Florida Ave NW 2018-12-01 00:00:55   \n",
       "2               31116  California St & Florida Ave NW 2018-12-01 00:00:55   \n",
       "3               31116  California St & Florida Ave NW 2018-12-01 00:01:08   \n",
       "4               31102             11th & Kenyon St NW 2018-12-01 00:02:45   \n",
       "\n",
       "             end_time  duration_seconds  \n",
       "0 2018-12-01 00:13:54               790  \n",
       "1 2018-12-01 00:13:46               771  \n",
       "2 2018-12-01 00:13:51               775  \n",
       "3 2018-12-01 00:13:39               750  \n",
       "4 2018-12-01 00:05:11               146  "
      ]
     },
     "execution_count": 8,
     "metadata": {},
     "output_type": "execute_result"
    }
   ],
   "source": [
    "# Display first five rows of df\n",
    "df.head()"
   ]
  },
  {
   "cell_type": "code",
   "execution_count": 9,
   "metadata": {},
   "outputs": [
    {
     "data": {
      "text/plain": [
       "Member    143334\n",
       "Casual     15519\n",
       "Name: member_type, dtype: int64"
      ]
     },
     "execution_count": 9,
     "metadata": {},
     "output_type": "execute_result"
    }
   ],
   "source": [
    "# Display counts of each member\n",
    "df['member_type'].value_counts()"
   ]
  },
  {
   "cell_type": "code",
   "execution_count": 10,
   "metadata": {},
   "outputs": [
    {
     "data": {
      "text/plain": [
       "3982"
      ]
     },
     "execution_count": 10,
     "metadata": {},
     "output_type": "execute_result"
    }
   ],
   "source": [
    "# Display count of unique bikes\n",
    "df['bike_number'].nunique()"
   ]
  },
  {
   "cell_type": "code",
   "execution_count": 11,
   "metadata": {},
   "outputs": [
    {
     "data": {
      "text/plain": [
       "522"
      ]
     },
     "execution_count": 11,
     "metadata": {},
     "output_type": "execute_result"
    }
   ],
   "source": [
    "# Display count of unique start stations numbers\n",
    "df['start_station_number'].nunique()"
   ]
  },
  {
   "cell_type": "code",
   "execution_count": 12,
   "metadata": {},
   "outputs": [
    {
     "data": {
      "text/plain": [
       "522"
      ]
     },
     "execution_count": 12,
     "metadata": {},
     "output_type": "execute_result"
    }
   ],
   "source": [
    "# Display count of unique start stations\n",
    "df['start_station'].nunique()"
   ]
  },
  {
   "cell_type": "code",
   "execution_count": 13,
   "metadata": {},
   "outputs": [
    {
     "data": {
      "text/plain": [
       "520"
      ]
     },
     "execution_count": 13,
     "metadata": {},
     "output_type": "execute_result"
    }
   ],
   "source": [
    "# Display count of unique end stations numbers\n",
    "df['end_station_number'].nunique()"
   ]
  },
  {
   "cell_type": "code",
   "execution_count": 14,
   "metadata": {},
   "outputs": [
    {
     "data": {
      "text/plain": [
       "520"
      ]
     },
     "execution_count": 14,
     "metadata": {},
     "output_type": "execute_result"
    }
   ],
   "source": [
    "# Display count of unique end stations numbers\n",
    "df['end_station'].nunique()"
   ]
  },
  {
   "cell_type": "code",
   "execution_count": 15,
   "metadata": {},
   "outputs": [
    {
     "data": {
      "text/plain": [
       "bike_number             0\n",
       "member_type             0\n",
       "start_station_number    0\n",
       "start_station           0\n",
       "end_station_number      0\n",
       "end_station             0\n",
       "start_time              0\n",
       "end_time                0\n",
       "duration_seconds        0\n",
       "dtype: int64"
      ]
     },
     "execution_count": 15,
     "metadata": {},
     "output_type": "execute_result"
    }
   ],
   "source": [
    "# Check for null values\n",
    "df.isnull().sum()"
   ]
  }
 ],
 "metadata": {
  "kernelspec": {
   "display_name": "Python 3",
   "language": "python",
   "name": "python3"
  },
  "language_info": {
   "codemirror_mode": {
    "name": "ipython",
    "version": 3
   },
   "file_extension": ".py",
   "mimetype": "text/x-python",
   "name": "python",
   "nbconvert_exporter": "python",
   "pygments_lexer": "ipython3",
   "version": "3.6.3"
  }
 },
 "nbformat": 4,
 "nbformat_minor": 2
}
