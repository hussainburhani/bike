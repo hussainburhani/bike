{
 "cells": [
  {
   "cell_type": "markdown",
   "metadata": {},
   "source": [
    "#### Cycling through data science: tool <img src=\"../images/bicycle32.png\" style=\"float:right\">"
   ]
  },
  {
   "cell_type": "markdown",
   "metadata": {},
   "source": [
    "Preamble: Gather features which might help predict the number of bike users in any given day in Washington, DC, and evaluate the significance of those features and the robustness of the predictions. This is essentially a `regression problem`. Regression problems are inference problems in that we infer, or predict, parameters of a population from a sample. They are also specifically `supervised learning` problems that entail building a model to make predictions about a continuous target variable."
   ]
  },
  {
   "cell_type": "markdown",
   "metadata": {},
   "source": [
    "##### Select input here to make a prediction of the number of bike users."
   ]
  },
  {
   "cell_type": "code",
   "execution_count": 1,
   "metadata": {},
   "outputs": [],
   "source": [
    "# Import libraries\n",
    "import numpy as np\n",
    "import pandas as pd\n",
    "import matplotlib.pyplot as plt\n",
    "import seaborn as sns\n",
    "\n",
    "from sklearn import datasets, impute, model_selection, preprocessing, compose, pipeline, metrics, linear_model, neighbors\n",
    "import catboost\n",
    "\n",
    "from ipywidgets import widgets, Output, Layout, Label, HBox, GridspecLayout\n",
    "from IPython.display import display, clear_output, HTML\n",
    "\n",
    "import joblib\n",
    "from loguru import logger\n",
    "import warnings"
   ]
  },
  {
   "cell_type": "code",
   "execution_count": 2,
   "metadata": {},
   "outputs": [],
   "source": [
    "# Set parameters\n",
    "plt.style.use('ggplot')\n",
    "warnings.filterwarnings('ignore')"
   ]
  },
  {
   "cell_type": "code",
   "execution_count": 3,
   "metadata": {},
   "outputs": [],
   "source": [
    "def plot_correlation_features_to_target(data, target):\n",
    "    '''Plot heatmap of how features correlate to the target variable.'''\n",
    "    df_corr = data.corr()[[target]].sort_values(by=target, ascending=False)\n",
    "    plt.title(label=f'Correlation of features to {target}')\n",
    "    sns.heatmap(data=df_corr, vmin=-1, vmax=1, cmap='coolwarm', xticklabels=False)"
   ]
  },
  {
   "cell_type": "code",
   "execution_count": 4,
   "metadata": {},
   "outputs": [],
   "source": [
    "def on_predict_submit(incoming):\n",
    "    '''Display processed incoming html inputs.'''\n",
    "    with output:\n",
    "        clear_output()\n",
    "        X_input = []\n",
    "        features = ['temp', 'temp_feel', 'humdity', 'windspeed', 'season', 'month', 'is_holiday', 'weekday', 'is_workingday', 'weather']\n",
    "        X_input = pd.DataFrame(columns=features)\n",
    "        map_list = ['season', 'month', 'weekday', 'is_holiday','is_workingday', 'weather']\n",
    "        X_input = map_to_numeric(data=X_input, columns=map_list)\n",
    "        input_variables = [input_temp.value/100, input_temp_feel.value/100, input_humidity.value, input_windspeed.value, input_season.value, input_month.value, input_is_holiday.value, input_weekday.value, input_is_workingday.value, input_weather.value]\n",
    "        X_input.loc[1] = [x for x in input_variables]\n",
    "        display_output = f\"The number of predicted bikers in Washington DC is {model.predict(X=prepipe.transform(X=X_input))[0]:,.0f}\"\n",
    "        display(display_output)"
   ]
  },
  {
   "cell_type": "code",
   "execution_count": 5,
   "metadata": {},
   "outputs": [],
   "source": [
    "# Map values to numeric\n",
    "def map_to_numeric(data, columns):\n",
    "    for column in columns:\n",
    "        map_dict = get_map_dict(column)\n",
    "        data[column] = data[column].map(map_dict)\n",
    "    return data\n",
    "    \n",
    "def get_map_dict(feature):\n",
    "    map_feature = {\n",
    "    'season': {\n",
    "        'Spring': 0,\n",
    "        'Summer': 1,\n",
    "        'Fall': 2,\n",
    "        'Winter': 3\n",
    "        }, \n",
    "    'month': {\n",
    "        'Jan': 1,\n",
    "        'Feb': 2,\n",
    "        'Mar': 3,\n",
    "        'Apr': 4,\n",
    "        'May': 5,\n",
    "        'Jun': 6,\n",
    "        'Jul': 7,\n",
    "        'Aug': 8,\n",
    "        'Sep': 9,\n",
    "        'Oct': 10,\n",
    "        'Nov': 11,\n",
    "        'Dec': 12\n",
    "        }, \n",
    "    'weekday': {\n",
    "        'Sun': 0,\n",
    "        'Mon': 1,\n",
    "        'Tue': 2,\n",
    "        'Wed': 3,\n",
    "        'Thu': 4,\n",
    "        'Fri': 5,\n",
    "        'Sat': 6\n",
    "        },\n",
    "    'is_workingday': {\n",
    "        'Yes': 1,\n",
    "        'No': 0\n",
    "        },\n",
    "    'is_holiday': {\n",
    "        'Yes': 1,\n",
    "        'No': 0\n",
    "        },\n",
    "    'weather': {\n",
    "        'Clear': 0,\n",
    "        'Mist': 1,\n",
    "        'Light Snow': 2,\n",
    "        'Heavy Rain': 3\n",
    "        }\n",
    "    }\n",
    "    return map_feature[feature]"
   ]
  },
  {
   "cell_type": "code",
   "execution_count": 6,
   "metadata": {},
   "outputs": [],
   "source": [
    "# Input month\n",
    "months = ['Jan', 'Feb', 'Mar', 'Apr', 'May', 'Jun', 'Jul', 'Aug', 'Sep', 'Oct', 'Nov', 'Dec']\n",
    "input_month = widgets.ToggleButtons(\n",
    "    options=months,\n",
    "    description='Month',\n",
    "    disabled=False,\n",
    "    button_style='', # 'success', 'info', 'warning', 'danger' or ''\n",
    "    tooltips=months\n",
    ")\n",
    "\n",
    "# Input season\n",
    "seasons = ['Spring', 'Summer', 'Fall', 'Winter']\n",
    "input_season = widgets.ToggleButtons(\n",
    "    options=seasons,\n",
    "    description='Season',\n",
    "    disabled=False,\n",
    "    button_style='', # 'success', 'info', 'warning', 'danger' or ''\n",
    "    tooltips=months\n",
    ")\n",
    "\n",
    "# Input weekday\n",
    "weekdays = ['Mon', 'Tue', 'Wed', 'Thu', 'Fri', 'Sat', 'Sun']\n",
    "input_weekday = widgets.ToggleButtons(\n",
    "    options=weekdays,\n",
    "    description='Day',\n",
    "    disabled=False,\n",
    "    button_style='', # 'success', 'info', 'warning', 'danger' or ''\n",
    "    tooltips=weekdays\n",
    ")\n",
    "\n",
    "# Input is_workingday\n",
    "is_workingdays = ['Yes', 'No']\n",
    "input_is_workingday = widgets.ToggleButtons(\n",
    "    options=is_workingdays,\n",
    "    description='Work day?',\n",
    "    disabled=False,\n",
    "    button_style='', # 'success', 'info', 'warning', 'danger' or ''\n",
    "    tooltips=is_workingdays\n",
    ")\n",
    "\n",
    "# Input is_holiday\n",
    "is_holidays = ['Yes', 'No']\n",
    "input_is_holiday = widgets.ToggleButtons(\n",
    "    options=is_holidays,\n",
    "    description='Holiday?',\n",
    "    disabled=False,\n",
    "    button_style='', # 'success', 'info', 'warning', 'danger' or ''\n",
    "    tooltips=is_holidays\n",
    ")\n",
    "\n",
    "# Input weather\n",
    "weathers = ['Clear', 'Mist', 'Light snow', 'Heavy rain']\n",
    "input_weather = widgets.ToggleButtons(\n",
    "    options=weathers,\n",
    "    description='Weather',\n",
    "    disabled=False,\n",
    "    button_style='', # 'success', 'info', 'warning', 'danger' or ''\n",
    "    tooltips=weathers\n",
    ")\n",
    "\n",
    "# Input temp\n",
    "input_temp = widgets.FloatSlider(\n",
    "    value=55.0,\n",
    "    min=0,\n",
    "    max=100.0,\n",
    "    step=0.1,\n",
    "    description='Temperature',\n",
    "    disabled=False,\n",
    "    continuous_update=False,\n",
    "    orientation='horizontal',\n",
    "    readout=True,\n",
    "    readout_format='.1f',\n",
    ")\n",
    "\n",
    "# Input temp_feel\n",
    "input_temp_feel = widgets.FloatSlider(\n",
    "    value=55.0,\n",
    "    min=0,\n",
    "    max=100.0,\n",
    "    step=0.1,\n",
    "    description='Feels like',\n",
    "    disabled=False,\n",
    "    continuous_update=False,\n",
    "    orientation='horizontal',\n",
    "    readout=True,\n",
    "    readout_format='.1f',\n",
    ")\n",
    "\n",
    "# Input humidity\n",
    "input_humidity = widgets.FloatSlider(\n",
    "    value=0.50,\n",
    "    min=0,\n",
    "    max=1.00,\n",
    "    step=0.01,\n",
    "    description='Humidity',\n",
    "    disabled=False,\n",
    "    continuous_update=False,\n",
    "    orientation='horizontal',\n",
    "    readout=True,\n",
    "    readout_format='.2f',\n",
    ")\n",
    "\n",
    "# Input windspeed\n",
    "input_windspeed = widgets.FloatSlider(\n",
    "    value=0.20,\n",
    "    min=0,\n",
    "    max=0.70,\n",
    "    step=0.01,\n",
    "    description='Windspeed',\n",
    "    disabled=False,\n",
    "    continuous_update=False,\n",
    "    orientation='horizontal',\n",
    "    readout=True,\n",
    "    readout_format='.2f',\n",
    ")\n",
    "\n",
    "# Input Predict\n",
    "input_predict = widgets.Button(\n",
    "    value=False,\n",
    "    description='Predict',\n",
    "    disabled=False,\n",
    "    button_style='', # 'success', 'info', 'warning', 'danger' or ''\n",
    "    tooltip='Predict',\n",
    "    icon='check'\n",
    ")"
   ]
  },
  {
   "cell_type": "code",
   "execution_count": 7,
   "metadata": {},
   "outputs": [],
   "source": [
    "# Button for Predict\n",
    "button_predict = widgets.Button(\n",
    "    value=False,\n",
    "    description='Predict',\n",
    "    disabled=False,\n",
    "    button_style='primary',\n",
    "    tooltip='Predict',\n",
    "    icon='',\n",
    ")\n",
    "# Output/results\n",
    "output = Output()\n",
    "button_predict.on_click(on_predict_submit)"
   ]
  },
  {
   "cell_type": "code",
   "execution_count": 8,
   "metadata": {},
   "outputs": [
    {
     "data": {
      "application/vnd.jupyter.widget-view+json": {
       "model_id": "579ba4a1654e48519044c037eaf5763c",
       "version_major": 2,
       "version_minor": 0
      },
      "text/plain": [
       "GridspecLayout(children=(ToggleButtons(description='Season', layout=Layout(grid_area='widget001'), options=('S…"
      ]
     },
     "metadata": {},
     "output_type": "display_data"
    }
   ],
   "source": [
    "# Create a x*y grid layout\n",
    "grid = GridspecLayout(11, 5, height='600px', width='auto')\n",
    "# Fill it in with widgets\n",
    "grid[0:1, 0:] = input_season\n",
    "grid[1:2, 0:] = input_month\n",
    "grid[2:3, 0:] = input_weekday\n",
    "grid[3:4, 0:] = input_is_workingday\n",
    "grid[4:5, 0:] = input_is_holiday\n",
    "grid[5:6, 0:] = input_weather\n",
    "grid[6:7, 0:] = input_temp\n",
    "grid[7:8, 0:] = input_temp_feel\n",
    "grid[8:9, 0:] = input_humidity\n",
    "grid[9:10, 0:] = input_windspeed\n",
    "grid[10:11, 0:1] = button_predict\n",
    "grid[10:11, 1:] = output\n",
    "display(grid)"
   ]
  },
  {
   "cell_type": "markdown",
   "metadata": {},
   "source": [
    "[AccuWeather - Washington DC](https://www.accuweather.com/en/us/washington-dc/20006/daily-weather-forecast/327659?day=1)"
   ]
  },
  {
   "cell_type": "code",
   "execution_count": 9,
   "metadata": {},
   "outputs": [
    {
     "data": {
      "image/png": "[encoded data removed]",
      "text/plain": [
       "<Figure size 432x288 with 2 Axes>"
      ]
     },
     "metadata": {},
     "output_type": "display_data"
    }
   ],
   "source": [
    "# Load daily bike count dataset\n",
    "path = '../data'\n",
    "data = pd.read_csv(f'{path}/day.csv')\n",
    "# Rename and select columns\n",
    "cols_dict = {\n",
    "    'cnt': 'count',\n",
    "    'season': 'season',\n",
    "    'yr': 'year',\n",
    "    'mnth': 'month',\n",
    "    'holiday': 'is_holiday',\n",
    "    'weekday': 'weekday',\n",
    "    'workingday': 'is_workingday',\n",
    "    'weathersit': 'weather',\n",
    "    'temp': 'temp',\n",
    "    'atemp': 'temp_feel',\n",
    "    'hum': 'humdity',\n",
    "    'windspeed': 'windspeed',\n",
    "}\n",
    "data = data.rename(columns=cols_dict).loc[:, cols_dict.values()]\n",
    "# Plot heatmap of how features correlate to the target variable\n",
    "plot_correlation_features_to_target(data=data, target='count')"
   ]
  },
  {
   "cell_type": "code",
   "execution_count": 10,
   "metadata": {},
   "outputs": [],
   "source": [
    "# Load the preprocessing pipeline and trained model objects\n",
    "path = '../data'\n",
    "prepipe = joblib.load(open(f'{path}/preprocessing.joblib', 'rb'))\n",
    "model = joblib.load(open(f'{path}/model.joblib','rb'))"
   ]
  },
  {
   "cell_type": "code",
   "execution_count": 11,
   "metadata": {},
   "outputs": [
    {
     "data": {
      "text/html": [
       "<script>\n",
       "code_show=true; \n",
       "function code_toggle() {\n",
       " if (code_show){\n",
       " $('div.input').hide();\n",
       " } else {\n",
       " $('div.input').show();\n",
       " }\n",
       " code_show = !code_show\n",
       "} \n",
       "$( document ).ready(code_toggle);\n",
       "</script><a href=\"javascript:code_toggle()\">Toggle</a> code."
      ],
      "text/plain": [
       "<IPython.core.display.HTML object>"
      ]
     },
     "execution_count": 11,
     "metadata": {},
     "output_type": "execute_result"
    }
   ],
   "source": [
    "HTML('''<script>\n",
    "code_show=true; \n",
    "function code_toggle() {\n",
    " if (code_show){\n",
    " $('div.input').hide();\n",
    " } else {\n",
    " $('div.input').show();\n",
    " }\n",
    " code_show = !code_show\n",
    "} \n",
    "$( document ).ready(code_toggle);\n",
    "</script><a href=\"javascript:code_toggle()\">Toggle</a> code.''')"
   ]
  }
 ],
 "metadata": {
  "kernelspec": {
   "display_name": "aichbea",
   "language": "python",
   "name": "aichbea"
  },
  "language_info": {
   "codemirror_mode": {
    "name": "ipython",
    "version": 3
   },
   "file_extension": ".py",
   "mimetype": "text/x-python",
   "name": "python",
   "nbconvert_exporter": "python",
   "pygments_lexer": "ipython3",
   "version": "3.7.7"
  }
 },
 "nbformat": 4,
 "nbformat_minor": 4
}
