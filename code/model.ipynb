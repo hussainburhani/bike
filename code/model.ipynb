{
 "cells": [
  {
   "cell_type": "markdown",
   "metadata": {},
   "source": [
    "#### Cycling through data science: model <img src=\"../images/bicycle32.png\" style=\"float:right\">"
   ]
  },
  {
   "cell_type": "markdown",
   "metadata": {},
   "source": [
    "Preamble: Gather features which might help predict the number of bike users in any given day in Washington, DC, and evaluate the significance of those features and the robustness of the predictions. This is essentially a `regression problem`. Regression problems are inference problems in that we infer, or predict, parameters of a population from a sample. They are also specifically `supervised learning` problems that entail building a model to make predictions about a continuous target variable."
   ]
  },
  {
   "cell_type": "markdown",
   "metadata": {},
   "source": [
    "##### Import libraries"
   ]
  },
  {
   "cell_type": "code",
   "execution_count": 1,
   "metadata": {},
   "outputs": [],
   "source": [
    "import numpy as np\n",
    "import pandas as pd\n",
    "import matplotlib.pyplot as plt\n",
    "import seaborn as sns\n",
    "\n",
    "from sklearn import datasets, impute, model_selection, preprocessing, compose, pipeline, metrics, linear_model, neighbors\n",
    "import catboost\n",
    "\n",
    "import joblib\n",
    "from loguru import logger\n",
    "import warnings"
   ]
  },
  {
   "cell_type": "markdown",
   "metadata": {},
   "source": [
    "##### Set parameters"
   ]
  },
  {
   "cell_type": "code",
   "execution_count": 2,
   "metadata": {},
   "outputs": [],
   "source": [
    "plt.style.use('ggplot')\n",
    "warnings.filterwarnings('ignore')"
   ]
  },
  {
   "cell_type": "markdown",
   "metadata": {},
   "source": [
    "##### Define functions"
   ]
  },
  {
   "cell_type": "code",
   "execution_count": 3,
   "metadata": {},
   "outputs": [],
   "source": [
    "def plot_correlation_features_to_target(data, target):\n",
    "    '''Plot heatmap of how features correlate to the target variable.'''\n",
    "    df_corr = data.corr()[[target]].sort_values(by=target, ascending=False)\n",
    "    plt.title(label=f'Correlation of features to {target}')\n",
    "    sns.heatmap(data=df_corr, vmin=-1, vmax=1, cmap='coolwarm', xticklabels=False)"
   ]
  },
  {
   "cell_type": "code",
   "execution_count": 4,
   "metadata": {},
   "outputs": [],
   "source": [
    "def fit_preprocessing_pipeline(X, numerical_features=None, nominal_features=None, ordinal_features=None, path='../data'):\n",
    "    '''Return a dataframe and pipe object after fitting and transforming it to a preprocessing pipeline. In addition, save only the fitted pipeline.'''    \n",
    "    # Convert nominal features to category datatype\n",
    "    X[nominal_features] = X[nominal_features].astype('category')\n",
    "    # Build preprocessing for numerical features\n",
    "    numerical_transformer = pipeline.Pipeline(steps=[\n",
    "        ('impute', impute.KNNImputer()),\n",
    "        ('scale', preprocessing.StandardScaler())\n",
    "    ])\n",
    "    # Build preprocessing for nominal features\n",
    "    nominal_transformer = pipeline.Pipeline(steps=[\n",
    "        ('impute', impute.SimpleImputer(strategy='constant', fill_value='missing')),\n",
    "        ('onehot', preprocessing.OneHotEncoder(handle_unknown='ignore'))\n",
    "    ])\n",
    "    # Build preprocessing for ordinal features\n",
    "    ordinal_transformer = pipeline.Pipeline(steps=[\n",
    "        ('impute', impute.SimpleImputer(strategy='mean')),\n",
    "        ('onehot', preprocessing.OrdinalEncoder())\n",
    "    ])\n",
    "    # Build ColumnTransformer \n",
    "    preprocessor = compose.ColumnTransformer(transformers=[\n",
    "        ('numerical', numerical_transformer, numerical_features),\n",
    "        ('nominal', nominal_transformer, nominal_features),\n",
    "        ('ordinal', ordinal_transformer, ordinal_features),\n",
    "    ])\n",
    "    # Build and fit pipeline\n",
    "    pipe = pipeline.Pipeline(steps=[\n",
    "        ('preprocess', preprocessor)\n",
    "    ])\n",
    "    pipe = pipe.fit(X)\n",
    "    # Pickle the fitted pipeline into preprocessing.joblib file\n",
    "    joblib.dump(pipe, open(f\"{path}/preprocessing.joblib\",'wb'))\n",
    "    X = pipe.transform(X)\n",
    "    return X, pipe"
   ]
  },
  {
   "cell_type": "code",
   "execution_count": 5,
   "metadata": {},
   "outputs": [],
   "source": [
    "def fit_model(X, y, model_type=linear_model.LinearRegression(), parameters={}, path='../data'):\n",
    "    '''Return the optimal model object fitted using a preprocessing pipeline and cross-validated gridsearch.'''\n",
    "    # Pipeline for instantiating model\n",
    "    pm = pipeline.Pipeline([\n",
    "        ('model', model_type)\n",
    "    ])\n",
    "    # Build and fit gridsearch model\n",
    "    parameters = parameters\n",
    "    grid = model_selection.GridSearchCV(estimator=pm, param_grid=parameters, n_jobs=-1)\n",
    "    model = grid.fit(X, y)\n",
    "    # Display best attributes\n",
    "    logger.info(f\"For model: {model_type}\")\n",
    "    logger.info(f\"The best parameters are: {model.best_params_}\")\n",
    "    logger.info(f\"The best score is: {model.best_score_:.4f}\")\n",
    "    # Pickle the trained model into model.joblib file\n",
    "    joblib.dump(model, open(f\"{path}/model.joblib\",'wb'))\n",
    "    return model"
   ]
  },
  {
   "cell_type": "code",
   "execution_count": 6,
   "metadata": {},
   "outputs": [],
   "source": [
    "def evaluate_model(model, pipe, X_train, X_test, y_train, y_test):\n",
    "    '''Return predictions for training and testing data using trained model and fitted preprocessing pipeline.'''\n",
    "    # Preprocess test data using preprocessing pipeline object\n",
    "    X_test = pipe.transform(X_test)\n",
    "    # Predict training and testing values\n",
    "    y_train_pred = model.predict(X=X_train)\n",
    "    y_test_pred = model.predict(X=X_test)\n",
    "    # Display number of total observations and scores for training and testing data\n",
    "    logger.info(f'Number of total observations in dataset: {len(y_train_pred) + len(y_test_pred):,}')\n",
    "    logger.info(f'Training data score (r2): {metrics.r2_score(y_true=y_train, y_pred=y_train_pred):.4f}')\n",
    "    logger.info(f'Testing data score (r2): {metrics.r2_score(y_true=y_test, y_pred=y_test_pred):.4f}')\n",
    "    logger.info(f'Bias-variance trade-off (test score / train score): {metrics.r2_score(y_true=y_test, y_pred=y_test_pred) / metrics.r2_score(y_true=y_train, y_pred=y_train_pred):.4f}')\n",
    "    # Display error curve\n",
    "    sns.distplot(a=y_test_pred-y_test, label=None)\n",
    "    plt.ylabel('')    \n",
    "    plt.xlabel('')\n",
    "    return y_train_pred, y_test_pred"
   ]
  },
  {
   "cell_type": "markdown",
   "metadata": {},
   "source": [
    "#### 1. Define data science problem"
   ]
  },
  {
   "cell_type": "markdown",
   "metadata": {},
   "source": [
    "Business problem: predict the number of bike users in any given day in Washington, DC.  \n",
    "Data science problem: given a set of weather and time variables, predict the number of bike users in a given day.  "
   ]
  },
  {
   "cell_type": "markdown",
   "metadata": {},
   "source": [
    "#### 2. Gather and process data"
   ]
  },
  {
   "cell_type": "code",
   "execution_count": 7,
   "metadata": {},
   "outputs": [],
   "source": [
    "# Load daily bike count dataset\n",
    "path = '../data'\n",
    "data = pd.read_csv(f'{path}/day.csv')"
   ]
  },
  {
   "cell_type": "code",
   "execution_count": 8,
   "metadata": {},
   "outputs": [],
   "source": [
    "# Rename and select columns\n",
    "cols_dict = {\n",
    "    'cnt': 'count',\n",
    "    'season': 'season',\n",
    "    'yr': 'year',\n",
    "    'mnth': 'month',\n",
    "    'holiday': 'is_holiday',\n",
    "    'weekday': 'weekday',\n",
    "    'workingday': 'is_workingday',\n",
    "    'weathersit': 'weather',\n",
    "    'temp': 'temp',\n",
    "    'atemp': 'temp_feel',\n",
    "    'hum': 'humdity',\n",
    "    'windspeed': 'windspeed',\n",
    "}\n",
    "data = data.rename(columns=cols_dict).loc[:, cols_dict.values()]"
   ]
  },
  {
   "cell_type": "markdown",
   "metadata": {},
   "source": [
    "##### Data table\n",
    "- `count`: count of total rental bikes including both casual and registered \n",
    "- `season`: season (1:spring, 2:summer, 3:fall, 4:winter)\n",
    "- `year`: year (0: 2011, 1:2012)\n",
    "- `month`: month ( 1 to 12)\n",
    "- `is_holiday`: whether day is holiday or not\n",
    "- `weekday`: day of the week\n",
    "- `is_workingday`: if day is neither weekend nor holiday is 1, otherwise is 0\n",
    "- `weather`: \n",
    "    - 1: Clear, Few clouds, Partly cloudy, Partly cloudy\n",
    "    - 2: Mist + Cloudy, Mist + Broken clouds, Mist + Few clouds, Mist\n",
    "    - 3: Light Snow, Light Rain + Thunderstorm + Scattered clouds, Light Rain + Scattered clouds\n",
    "    - 4: Heavy Rain + Ice Pallets + Thunderstorm + Mist, Snow + Fog\n",
    "- `temp`: normalized daily temperature in Celsius\n",
    "- `temp_feel`: normalized daily feeling temperature in Celsius\n",
    "- `humidity`: normalized humidity. The values are divided to 100 (max)\n",
    "- `windspeed`: normalized wind speed. The values are divided to 67 (max)"
   ]
  },
  {
   "cell_type": "code",
   "execution_count": 9,
   "metadata": {},
   "outputs": [
    {
     "data": {
      "text/html": [
       "<div>\n",
       "<style scoped>\n",
       "    .dataframe tbody tr th:only-of-type {\n",
       "        vertical-align: middle;\n",
       "    }\n",
       "\n",
       "    .dataframe tbody tr th {\n",
       "        vertical-align: top;\n",
       "    }\n",
       "\n",
       "    .dataframe thead th {\n",
       "        text-align: right;\n",
       "    }\n",
       "</style>\n",
       "<table border=\"1\" class=\"dataframe\">\n",
       "  <thead>\n",
       "    <tr style=\"text-align: right;\">\n",
       "      <th></th>\n",
       "      <th>count</th>\n",
       "      <th>season</th>\n",
       "      <th>year</th>\n",
       "      <th>month</th>\n",
       "      <th>is_holiday</th>\n",
       "      <th>weekday</th>\n",
       "      <th>is_workingday</th>\n",
       "      <th>weather</th>\n",
       "      <th>temp</th>\n",
       "      <th>temp_feel</th>\n",
       "      <th>humdity</th>\n",
       "      <th>windspeed</th>\n",
       "    </tr>\n",
       "  </thead>\n",
       "  <tbody>\n",
       "    <tr>\n",
       "      <th>0</th>\n",
       "      <td>985</td>\n",
       "      <td>1</td>\n",
       "      <td>0</td>\n",
       "      <td>1</td>\n",
       "      <td>0</td>\n",
       "      <td>6</td>\n",
       "      <td>0</td>\n",
       "      <td>2</td>\n",
       "      <td>0.344167</td>\n",
       "      <td>0.363625</td>\n",
       "      <td>0.805833</td>\n",
       "      <td>0.160446</td>\n",
       "    </tr>\n",
       "    <tr>\n",
       "      <th>1</th>\n",
       "      <td>801</td>\n",
       "      <td>1</td>\n",
       "      <td>0</td>\n",
       "      <td>1</td>\n",
       "      <td>0</td>\n",
       "      <td>0</td>\n",
       "      <td>0</td>\n",
       "      <td>2</td>\n",
       "      <td>0.363478</td>\n",
       "      <td>0.353739</td>\n",
       "      <td>0.696087</td>\n",
       "      <td>0.248539</td>\n",
       "    </tr>\n",
       "    <tr>\n",
       "      <th>2</th>\n",
       "      <td>1349</td>\n",
       "      <td>1</td>\n",
       "      <td>0</td>\n",
       "      <td>1</td>\n",
       "      <td>0</td>\n",
       "      <td>1</td>\n",
       "      <td>1</td>\n",
       "      <td>1</td>\n",
       "      <td>0.196364</td>\n",
       "      <td>0.189405</td>\n",
       "      <td>0.437273</td>\n",
       "      <td>0.248309</td>\n",
       "    </tr>\n",
       "    <tr>\n",
       "      <th>3</th>\n",
       "      <td>1562</td>\n",
       "      <td>1</td>\n",
       "      <td>0</td>\n",
       "      <td>1</td>\n",
       "      <td>0</td>\n",
       "      <td>2</td>\n",
       "      <td>1</td>\n",
       "      <td>1</td>\n",
       "      <td>0.200000</td>\n",
       "      <td>0.212122</td>\n",
       "      <td>0.590435</td>\n",
       "      <td>0.160296</td>\n",
       "    </tr>\n",
       "    <tr>\n",
       "      <th>4</th>\n",
       "      <td>1600</td>\n",
       "      <td>1</td>\n",
       "      <td>0</td>\n",
       "      <td>1</td>\n",
       "      <td>0</td>\n",
       "      <td>3</td>\n",
       "      <td>1</td>\n",
       "      <td>1</td>\n",
       "      <td>0.226957</td>\n",
       "      <td>0.229270</td>\n",
       "      <td>0.436957</td>\n",
       "      <td>0.186900</td>\n",
       "    </tr>\n",
       "  </tbody>\n",
       "</table>\n",
       "</div>"
      ],
      "text/plain": [
       "   count  season  year  month  is_holiday  weekday  is_workingday  weather  \\\n",
       "0    985       1     0      1           0        6              0        2   \n",
       "1    801       1     0      1           0        0              0        2   \n",
       "2   1349       1     0      1           0        1              1        1   \n",
       "3   1562       1     0      1           0        2              1        1   \n",
       "4   1600       1     0      1           0        3              1        1   \n",
       "\n",
       "       temp  temp_feel   humdity  windspeed  \n",
       "0  0.344167   0.363625  0.805833   0.160446  \n",
       "1  0.363478   0.353739  0.696087   0.248539  \n",
       "2  0.196364   0.189405  0.437273   0.248309  \n",
       "3  0.200000   0.212122  0.590435   0.160296  \n",
       "4  0.226957   0.229270  0.436957   0.186900  "
      ]
     },
     "execution_count": 9,
     "metadata": {},
     "output_type": "execute_result"
    }
   ],
   "source": [
    "# View header\n",
    "data.head()"
   ]
  },
  {
   "cell_type": "code",
   "execution_count": 10,
   "metadata": {},
   "outputs": [],
   "source": [
    "# Assign to df and define target column\n",
    "df = data\n",
    "target = 'count'"
   ]
  },
  {
   "cell_type": "markdown",
   "metadata": {},
   "source": [
    "#### 3. Explore and transform data"
   ]
  },
  {
   "cell_type": "code",
   "execution_count": 11,
   "metadata": {},
   "outputs": [
    {
     "data": {
      "text/html": [
       "<div>\n",
       "<style scoped>\n",
       "    .dataframe tbody tr th:only-of-type {\n",
       "        vertical-align: middle;\n",
       "    }\n",
       "\n",
       "    .dataframe tbody tr th {\n",
       "        vertical-align: top;\n",
       "    }\n",
       "\n",
       "    .dataframe thead th {\n",
       "        text-align: right;\n",
       "    }\n",
       "</style>\n",
       "<table border=\"1\" class=\"dataframe\">\n",
       "  <thead>\n",
       "    <tr style=\"text-align: right;\">\n",
       "      <th></th>\n",
       "      <th>count</th>\n",
       "      <th>season</th>\n",
       "      <th>year</th>\n",
       "      <th>month</th>\n",
       "      <th>is_holiday</th>\n",
       "      <th>weekday</th>\n",
       "      <th>is_workingday</th>\n",
       "      <th>weather</th>\n",
       "      <th>temp</th>\n",
       "      <th>temp_feel</th>\n",
       "      <th>humdity</th>\n",
       "      <th>windspeed</th>\n",
       "    </tr>\n",
       "  </thead>\n",
       "  <tbody>\n",
       "    <tr>\n",
       "      <th>0</th>\n",
       "      <td>985</td>\n",
       "      <td>1</td>\n",
       "      <td>0</td>\n",
       "      <td>1</td>\n",
       "      <td>0</td>\n",
       "      <td>6</td>\n",
       "      <td>0</td>\n",
       "      <td>2</td>\n",
       "      <td>0.344167</td>\n",
       "      <td>0.363625</td>\n",
       "      <td>0.805833</td>\n",
       "      <td>0.160446</td>\n",
       "    </tr>\n",
       "    <tr>\n",
       "      <th>1</th>\n",
       "      <td>801</td>\n",
       "      <td>1</td>\n",
       "      <td>0</td>\n",
       "      <td>1</td>\n",
       "      <td>0</td>\n",
       "      <td>0</td>\n",
       "      <td>0</td>\n",
       "      <td>2</td>\n",
       "      <td>0.363478</td>\n",
       "      <td>0.353739</td>\n",
       "      <td>0.696087</td>\n",
       "      <td>0.248539</td>\n",
       "    </tr>\n",
       "    <tr>\n",
       "      <th>2</th>\n",
       "      <td>1349</td>\n",
       "      <td>1</td>\n",
       "      <td>0</td>\n",
       "      <td>1</td>\n",
       "      <td>0</td>\n",
       "      <td>1</td>\n",
       "      <td>1</td>\n",
       "      <td>1</td>\n",
       "      <td>0.196364</td>\n",
       "      <td>0.189405</td>\n",
       "      <td>0.437273</td>\n",
       "      <td>0.248309</td>\n",
       "    </tr>\n",
       "    <tr>\n",
       "      <th>3</th>\n",
       "      <td>1562</td>\n",
       "      <td>1</td>\n",
       "      <td>0</td>\n",
       "      <td>1</td>\n",
       "      <td>0</td>\n",
       "      <td>2</td>\n",
       "      <td>1</td>\n",
       "      <td>1</td>\n",
       "      <td>0.200000</td>\n",
       "      <td>0.212122</td>\n",
       "      <td>0.590435</td>\n",
       "      <td>0.160296</td>\n",
       "    </tr>\n",
       "    <tr>\n",
       "      <th>4</th>\n",
       "      <td>1600</td>\n",
       "      <td>1</td>\n",
       "      <td>0</td>\n",
       "      <td>1</td>\n",
       "      <td>0</td>\n",
       "      <td>3</td>\n",
       "      <td>1</td>\n",
       "      <td>1</td>\n",
       "      <td>0.226957</td>\n",
       "      <td>0.229270</td>\n",
       "      <td>0.436957</td>\n",
       "      <td>0.186900</td>\n",
       "    </tr>\n",
       "  </tbody>\n",
       "</table>\n",
       "</div>"
      ],
      "text/plain": [
       "   count  season  year  month  is_holiday  weekday  is_workingday  weather  \\\n",
       "0    985       1     0      1           0        6              0        2   \n",
       "1    801       1     0      1           0        0              0        2   \n",
       "2   1349       1     0      1           0        1              1        1   \n",
       "3   1562       1     0      1           0        2              1        1   \n",
       "4   1600       1     0      1           0        3              1        1   \n",
       "\n",
       "       temp  temp_feel   humdity  windspeed  \n",
       "0  0.344167   0.363625  0.805833   0.160446  \n",
       "1  0.363478   0.353739  0.696087   0.248539  \n",
       "2  0.196364   0.189405  0.437273   0.248309  \n",
       "3  0.200000   0.212122  0.590435   0.160296  \n",
       "4  0.226957   0.229270  0.436957   0.186900  "
      ]
     },
     "execution_count": 11,
     "metadata": {},
     "output_type": "execute_result"
    }
   ],
   "source": [
    "df.head()"
   ]
  },
  {
   "cell_type": "code",
   "execution_count": 12,
   "metadata": {},
   "outputs": [
    {
     "name": "stdout",
     "output_type": "stream",
     "text": [
      "<class 'pandas.core.frame.DataFrame'>\n",
      "RangeIndex: 731 entries, 0 to 730\n",
      "Data columns (total 12 columns):\n",
      " #   Column         Non-Null Count  Dtype  \n",
      "---  ------         --------------  -----  \n",
      " 0   count          731 non-null    int64  \n",
      " 1   season         731 non-null    int64  \n",
      " 2   year           731 non-null    int64  \n",
      " 3   month          731 non-null    int64  \n",
      " 4   is_holiday     731 non-null    int64  \n",
      " 5   weekday        731 non-null    int64  \n",
      " 6   is_workingday  731 non-null    int64  \n",
      " 7   weather        731 non-null    int64  \n",
      " 8   temp           731 non-null    float64\n",
      " 9   temp_feel      731 non-null    float64\n",
      " 10  humdity        731 non-null    float64\n",
      " 11  windspeed      731 non-null    float64\n",
      "dtypes: float64(4), int64(8)\n",
      "memory usage: 68.7 KB\n"
     ]
    }
   ],
   "source": [
    "df.info()"
   ]
  },
  {
   "cell_type": "code",
   "execution_count": 13,
   "metadata": {},
   "outputs": [
    {
     "data": {
      "text/html": [
       "<div>\n",
       "<style scoped>\n",
       "    .dataframe tbody tr th:only-of-type {\n",
       "        vertical-align: middle;\n",
       "    }\n",
       "\n",
       "    .dataframe tbody tr th {\n",
       "        vertical-align: top;\n",
       "    }\n",
       "\n",
       "    .dataframe thead th {\n",
       "        text-align: right;\n",
       "    }\n",
       "</style>\n",
       "<table border=\"1\" class=\"dataframe\">\n",
       "  <thead>\n",
       "    <tr style=\"text-align: right;\">\n",
       "      <th></th>\n",
       "      <th>count</th>\n",
       "      <th>season</th>\n",
       "      <th>year</th>\n",
       "      <th>month</th>\n",
       "      <th>is_holiday</th>\n",
       "      <th>weekday</th>\n",
       "      <th>is_workingday</th>\n",
       "      <th>weather</th>\n",
       "      <th>temp</th>\n",
       "      <th>temp_feel</th>\n",
       "      <th>humdity</th>\n",
       "      <th>windspeed</th>\n",
       "    </tr>\n",
       "  </thead>\n",
       "  <tbody>\n",
       "    <tr>\n",
       "      <th>count</th>\n",
       "      <td>731.000000</td>\n",
       "      <td>731.000000</td>\n",
       "      <td>731.000000</td>\n",
       "      <td>731.000000</td>\n",
       "      <td>731.000000</td>\n",
       "      <td>731.000000</td>\n",
       "      <td>731.000000</td>\n",
       "      <td>731.000000</td>\n",
       "      <td>731.000000</td>\n",
       "      <td>731.000000</td>\n",
       "      <td>731.000000</td>\n",
       "      <td>731.000000</td>\n",
       "    </tr>\n",
       "    <tr>\n",
       "      <th>mean</th>\n",
       "      <td>4504.348837</td>\n",
       "      <td>2.496580</td>\n",
       "      <td>0.500684</td>\n",
       "      <td>6.519836</td>\n",
       "      <td>0.028728</td>\n",
       "      <td>2.997264</td>\n",
       "      <td>0.683995</td>\n",
       "      <td>1.395349</td>\n",
       "      <td>0.495385</td>\n",
       "      <td>0.474354</td>\n",
       "      <td>0.627894</td>\n",
       "      <td>0.190486</td>\n",
       "    </tr>\n",
       "    <tr>\n",
       "      <th>std</th>\n",
       "      <td>1937.211452</td>\n",
       "      <td>1.110807</td>\n",
       "      <td>0.500342</td>\n",
       "      <td>3.451913</td>\n",
       "      <td>0.167155</td>\n",
       "      <td>2.004787</td>\n",
       "      <td>0.465233</td>\n",
       "      <td>0.544894</td>\n",
       "      <td>0.183051</td>\n",
       "      <td>0.162961</td>\n",
       "      <td>0.142429</td>\n",
       "      <td>0.077498</td>\n",
       "    </tr>\n",
       "    <tr>\n",
       "      <th>min</th>\n",
       "      <td>22.000000</td>\n",
       "      <td>1.000000</td>\n",
       "      <td>0.000000</td>\n",
       "      <td>1.000000</td>\n",
       "      <td>0.000000</td>\n",
       "      <td>0.000000</td>\n",
       "      <td>0.000000</td>\n",
       "      <td>1.000000</td>\n",
       "      <td>0.059130</td>\n",
       "      <td>0.079070</td>\n",
       "      <td>0.000000</td>\n",
       "      <td>0.022392</td>\n",
       "    </tr>\n",
       "    <tr>\n",
       "      <th>25%</th>\n",
       "      <td>3152.000000</td>\n",
       "      <td>2.000000</td>\n",
       "      <td>0.000000</td>\n",
       "      <td>4.000000</td>\n",
       "      <td>0.000000</td>\n",
       "      <td>1.000000</td>\n",
       "      <td>0.000000</td>\n",
       "      <td>1.000000</td>\n",
       "      <td>0.337083</td>\n",
       "      <td>0.337842</td>\n",
       "      <td>0.520000</td>\n",
       "      <td>0.134950</td>\n",
       "    </tr>\n",
       "    <tr>\n",
       "      <th>50%</th>\n",
       "      <td>4548.000000</td>\n",
       "      <td>3.000000</td>\n",
       "      <td>1.000000</td>\n",
       "      <td>7.000000</td>\n",
       "      <td>0.000000</td>\n",
       "      <td>3.000000</td>\n",
       "      <td>1.000000</td>\n",
       "      <td>1.000000</td>\n",
       "      <td>0.498333</td>\n",
       "      <td>0.486733</td>\n",
       "      <td>0.626667</td>\n",
       "      <td>0.180975</td>\n",
       "    </tr>\n",
       "    <tr>\n",
       "      <th>75%</th>\n",
       "      <td>5956.000000</td>\n",
       "      <td>3.000000</td>\n",
       "      <td>1.000000</td>\n",
       "      <td>10.000000</td>\n",
       "      <td>0.000000</td>\n",
       "      <td>5.000000</td>\n",
       "      <td>1.000000</td>\n",
       "      <td>2.000000</td>\n",
       "      <td>0.655417</td>\n",
       "      <td>0.608602</td>\n",
       "      <td>0.730209</td>\n",
       "      <td>0.233214</td>\n",
       "    </tr>\n",
       "    <tr>\n",
       "      <th>max</th>\n",
       "      <td>8714.000000</td>\n",
       "      <td>4.000000</td>\n",
       "      <td>1.000000</td>\n",
       "      <td>12.000000</td>\n",
       "      <td>1.000000</td>\n",
       "      <td>6.000000</td>\n",
       "      <td>1.000000</td>\n",
       "      <td>3.000000</td>\n",
       "      <td>0.861667</td>\n",
       "      <td>0.840896</td>\n",
       "      <td>0.972500</td>\n",
       "      <td>0.507463</td>\n",
       "    </tr>\n",
       "  </tbody>\n",
       "</table>\n",
       "</div>"
      ],
      "text/plain": [
       "             count      season        year       month  is_holiday  \\\n",
       "count   731.000000  731.000000  731.000000  731.000000  731.000000   \n",
       "mean   4504.348837    2.496580    0.500684    6.519836    0.028728   \n",
       "std    1937.211452    1.110807    0.500342    3.451913    0.167155   \n",
       "min      22.000000    1.000000    0.000000    1.000000    0.000000   \n",
       "25%    3152.000000    2.000000    0.000000    4.000000    0.000000   \n",
       "50%    4548.000000    3.000000    1.000000    7.000000    0.000000   \n",
       "75%    5956.000000    3.000000    1.000000   10.000000    0.000000   \n",
       "max    8714.000000    4.000000    1.000000   12.000000    1.000000   \n",
       "\n",
       "          weekday  is_workingday     weather        temp   temp_feel  \\\n",
       "count  731.000000     731.000000  731.000000  731.000000  731.000000   \n",
       "mean     2.997264       0.683995    1.395349    0.495385    0.474354   \n",
       "std      2.004787       0.465233    0.544894    0.183051    0.162961   \n",
       "min      0.000000       0.000000    1.000000    0.059130    0.079070   \n",
       "25%      1.000000       0.000000    1.000000    0.337083    0.337842   \n",
       "50%      3.000000       1.000000    1.000000    0.498333    0.486733   \n",
       "75%      5.000000       1.000000    2.000000    0.655417    0.608602   \n",
       "max      6.000000       1.000000    3.000000    0.861667    0.840896   \n",
       "\n",
       "          humdity   windspeed  \n",
       "count  731.000000  731.000000  \n",
       "mean     0.627894    0.190486  \n",
       "std      0.142429    0.077498  \n",
       "min      0.000000    0.022392  \n",
       "25%      0.520000    0.134950  \n",
       "50%      0.626667    0.180975  \n",
       "75%      0.730209    0.233214  \n",
       "max      0.972500    0.507463  "
      ]
     },
     "execution_count": 13,
     "metadata": {},
     "output_type": "execute_result"
    }
   ],
   "source": [
    "df.describe()"
   ]
  },
  {
   "cell_type": "code",
   "execution_count": 14,
   "metadata": {},
   "outputs": [
    {
     "data": {
      "image/png": "[encoded data removed]",
      "text/plain": [
       "<Figure size 432x288 with 2 Axes>"
      ]
     },
     "metadata": {},
     "output_type": "display_data"
    }
   ],
   "source": [
    "# Plot heatmap of how features correlate to the target variable\n",
    "plot_correlation_features_to_target(data=df, target=target)"
   ]
  },
  {
   "cell_type": "markdown",
   "metadata": {},
   "source": [
    "##### Transform features"
   ]
  },
  {
   "cell_type": "markdown",
   "metadata": {},
   "source": [
    "Transformation of features such as one-hot encoding and scaling is built into the `fit_preprocessing_pipeline` function and processed in the `Model and evaluate` section of this notebook."
   ]
  },
  {
   "cell_type": "markdown",
   "metadata": {},
   "source": [
    "#### 4. Model and evaluate"
   ]
  },
  {
   "cell_type": "code",
   "execution_count": 15,
   "metadata": {},
   "outputs": [],
   "source": [
    "# Define type of features\n",
    "numerical_features = [\n",
    "    'temp', \n",
    "    'temp_feel', \n",
    "    'humdity', \n",
    "    'windspeed', \n",
    "]\n",
    "nominal_features = [\n",
    "    'season', \n",
    "    'month', \n",
    "    'is_holiday', \n",
    "    'weekday', \n",
    "    'is_workingday',\n",
    "    'weather'\n",
    "]\n",
    "ordinal_features = [\n",
    "]"
   ]
  },
  {
   "cell_type": "code",
   "execution_count": 16,
   "metadata": {},
   "outputs": [],
   "source": [
    "# Define features and target\n",
    "X = pd.concat([df[numerical_features], df[nominal_features], df[ordinal_features]], axis=1)\n",
    "y = df[target]"
   ]
  },
  {
   "cell_type": "code",
   "execution_count": 17,
   "metadata": {},
   "outputs": [],
   "source": [
    "# Split dataset into training and testing\n",
    "X_train, X_test, y_train, y_test = model_selection.train_test_split(X, y, train_size=0.7, random_state=42)"
   ]
  },
  {
   "cell_type": "code",
   "execution_count": 18,
   "metadata": {},
   "outputs": [],
   "source": [
    "# Preprocess features through preprocessing pipeline\n",
    "X_train, prepipe = fit_preprocessing_pipeline(X=X_train, numerical_features=numerical_features, nominal_features=nominal_features, ordinal_features=ordinal_features, path=path)"
   ]
  },
  {
   "cell_type": "markdown",
   "metadata": {},
   "source": [
    "##### Linear regression with regularization"
   ]
  },
  {
   "cell_type": "code",
   "execution_count": 19,
   "metadata": {},
   "outputs": [
    {
     "name": "stderr",
     "output_type": "stream",
     "text": [
      "2020-04-18 18:16:42.641 | INFO     | __main__:fit_model:12 - For model: ElasticNetCV(alphas=None, copy_X=True, cv=None, eps=0.001, fit_intercept=True,\n",
      "             l1_ratio=0.5, max_iter=1000, n_alphas=100, n_jobs=None,\n",
      "             normalize=False, positive=False, precompute='auto',\n",
      "             random_state=None, selection='cyclic', tol=0.0001, verbose=0)\n",
      "2020-04-18 18:16:42.642 | INFO     | __main__:fit_model:13 - The best parameters are: {'model__l1_ratio': 1.0, 'model__n_alphas': 130}\n",
      "2020-04-18 18:16:42.643 | INFO     | __main__:fit_model:14 - The best score is: 0.5274\n",
      "2020-04-18 18:16:42.664 | INFO     | __main__:evaluate_model:9 - Number of total observations in dataset: 731\n",
      "2020-04-18 18:16:42.669 | INFO     | __main__:evaluate_model:10 - Training data score (r2): 0.5825\n",
      "2020-04-18 18:16:42.675 | INFO     | __main__:evaluate_model:11 - Testing data score (r2): 0.5511\n",
      "2020-04-18 18:16:42.680 | INFO     | __main__:evaluate_model:12 - Bias-variance trade-off (test score / train score): 0.9461\n"
     ]
    },
    {
     "data": {
      "image/png": "[encoded data removed]",
      "text/plain": [
       "<Figure size 432x288 with 1 Axes>"
      ]
     },
     "metadata": {},
     "output_type": "display_data"
    }
   ],
   "source": [
    "# Set preprocessing and modeling parameters, fit model, and evaluate training and testing scores using trained model\n",
    "parameters = {\n",
    "    'model__l1_ratio': [0.9, 1.0],\n",
    "    'model__n_alphas': [130, 140]\n",
    "}\n",
    "model_type = linear_model.ElasticNetCV()\n",
    "model = fit_model(X=X_train, y=y_train, model_type=model_type, parameters=parameters, path=path)\n",
    "y_train_pred, y_test_pred = evaluate_model(model=model, pipe=prepipe, X_train=X_train, X_test=X_test, y_train=y_train, y_test=y_test)"
   ]
  },
  {
   "cell_type": "markdown",
   "metadata": {},
   "source": [
    "##### Catboost"
   ]
  },
  {
   "cell_type": "code",
   "execution_count": 20,
   "metadata": {},
   "outputs": [
    {
     "name": "stderr",
     "output_type": "stream",
     "text": [
      "2020-04-18 18:16:56.601 | INFO     | __main__:fit_model:12 - For model: <catboost.core.CatBoostRegressor object at 0x000001A4AF0DC208>\n",
      "2020-04-18 18:16:56.603 | INFO     | __main__:fit_model:13 - The best parameters are: {}\n",
      "2020-04-18 18:16:56.604 | INFO     | __main__:fit_model:14 - The best score is: 0.5649\n",
      "2020-04-18 18:16:56.646 | INFO     | __main__:evaluate_model:9 - Number of total observations in dataset: 731\n",
      "2020-04-18 18:16:56.650 | INFO     | __main__:evaluate_model:10 - Training data score (r2): 0.9427\n",
      "2020-04-18 18:16:56.653 | INFO     | __main__:evaluate_model:11 - Testing data score (r2): 0.6257\n",
      "2020-04-18 18:16:56.659 | INFO     | __main__:evaluate_model:12 - Bias-variance trade-off (test score / train score): 0.6638\n"
     ]
    },
    {
     "data": {
      "image/png": "[encoded data removed]",
      "text/plain": [
       "<Figure size 432x288 with 1 Axes>"
      ]
     },
     "metadata": {},
     "output_type": "display_data"
    }
   ],
   "source": [
    "# Set preprocessing and modeling parameters, fit model, and evaluate training and testing scores using trained model\n",
    "parameters = {\n",
    "}\n",
    "model_type = catboost.CatBoostRegressor(silent=True)\n",
    "model = fit_model(X=X_train, y=y_train, model_type=model_type, parameters=parameters, path=path)\n",
    "y_train_pred, y_test_pred = evaluate_model(model=model, pipe=prepipe, X_train=X_train, X_test=X_test, y_train=y_train, y_test=y_test)"
   ]
  },
  {
   "cell_type": "markdown",
   "metadata": {},
   "source": [
    "#### 5. Interact with trained model"
   ]
  },
  {
   "cell_type": "markdown",
   "metadata": {},
   "source": [
    "User enters these features"
   ]
  },
  {
   "cell_type": "code",
   "execution_count": 21,
   "metadata": {},
   "outputs": [],
   "source": [
    "input_user = {\n",
    "    'temp': [0.344167, 0.644162], \n",
    "    'temp_feel': [0.363625, 0.363625], \n",
    "    'humdity': [0.805833, 0.805833], \n",
    "    'windspeed': [0.160446, 0.160446], \n",
    "    'season': [1, 1], \n",
    "    'month': [1, 1], \n",
    "    'is_holiday': [0, 0], \n",
    "    'weekday': ['sunday', 'monday'], \n",
    "    'is_workingday': [0, 1],\n",
    "    'weather': [2, 3]\n",
    "}\n",
    "df_user = pd.DataFrame(data=input_user)"
   ]
  },
  {
   "cell_type": "markdown",
   "metadata": {},
   "source": [
    "Load the fitted preprocessing and model objects"
   ]
  },
  {
   "cell_type": "code",
   "execution_count": 22,
   "metadata": {},
   "outputs": [],
   "source": [
    "# Load the preprocessing pipeline and trained model objects\n",
    "prepipe = joblib.load(open(f'{path}/preprocessing.joblib', 'rb'))\n",
    "model = joblib.load(open(f'{path}/model.joblib','rb'))"
   ]
  },
  {
   "cell_type": "markdown",
   "metadata": {},
   "source": [
    "Make prediction using trained model"
   ]
  },
  {
   "cell_type": "code",
   "execution_count": 23,
   "metadata": {},
   "outputs": [
    {
     "data": {
      "text/html": [
       "<div>\n",
       "<style scoped>\n",
       "    .dataframe tbody tr th:only-of-type {\n",
       "        vertical-align: middle;\n",
       "    }\n",
       "\n",
       "    .dataframe tbody tr th {\n",
       "        vertical-align: top;\n",
       "    }\n",
       "\n",
       "    .dataframe thead th {\n",
       "        text-align: right;\n",
       "    }\n",
       "</style>\n",
       "<table border=\"1\" class=\"dataframe\">\n",
       "  <thead>\n",
       "    <tr style=\"text-align: right;\">\n",
       "      <th></th>\n",
       "      <th>temp</th>\n",
       "      <th>temp_feel</th>\n",
       "      <th>humdity</th>\n",
       "      <th>windspeed</th>\n",
       "      <th>season</th>\n",
       "      <th>month</th>\n",
       "      <th>is_holiday</th>\n",
       "      <th>weekday</th>\n",
       "      <th>is_workingday</th>\n",
       "      <th>weather</th>\n",
       "      <th>count_predictions</th>\n",
       "    </tr>\n",
       "  </thead>\n",
       "  <tbody>\n",
       "    <tr>\n",
       "      <th>0</th>\n",
       "      <td>0.344167</td>\n",
       "      <td>0.363625</td>\n",
       "      <td>0.805833</td>\n",
       "      <td>0.160446</td>\n",
       "      <td>1</td>\n",
       "      <td>1</td>\n",
       "      <td>0</td>\n",
       "      <td>sunday</td>\n",
       "      <td>0</td>\n",
       "      <td>2</td>\n",
       "      <td>1895.410364</td>\n",
       "    </tr>\n",
       "    <tr>\n",
       "      <th>1</th>\n",
       "      <td>0.644162</td>\n",
       "      <td>0.363625</td>\n",
       "      <td>0.805833</td>\n",
       "      <td>0.160446</td>\n",
       "      <td>1</td>\n",
       "      <td>1</td>\n",
       "      <td>0</td>\n",
       "      <td>monday</td>\n",
       "      <td>1</td>\n",
       "      <td>3</td>\n",
       "      <td>3662.406109</td>\n",
       "    </tr>\n",
       "  </tbody>\n",
       "</table>\n",
       "</div>"
      ],
      "text/plain": [
       "       temp  temp_feel   humdity  windspeed  season  month  is_holiday  \\\n",
       "0  0.344167   0.363625  0.805833   0.160446       1      1           0   \n",
       "1  0.644162   0.363625  0.805833   0.160446       1      1           0   \n",
       "\n",
       "  weekday  is_workingday  weather  count_predictions  \n",
       "0  sunday              0        2        1895.410364  \n",
       "1  monday              1        3        3662.406109  "
      ]
     },
     "execution_count": 23,
     "metadata": {},
     "output_type": "execute_result"
    }
   ],
   "source": [
    "# Transform features using fitted preprocessing pipeline and make prediction using trained model\n",
    "df_user['count_predictions'] = model.predict(X=prepipe.transform(X=df_user))\n",
    "df_user"
   ]
  },
  {
   "cell_type": "markdown",
   "metadata": {},
   "source": [
    "#### 6. Answer data science problem"
   ]
  },
  {
   "cell_type": "markdown",
   "metadata": {},
   "source": [
    "Given a set of weather and time variables, we can predict the number of bike users in any given day in Washington, DC."
   ]
  }
 ],
 "metadata": {
  "kernelspec": {
   "display_name": "aichbea",
   "language": "python",
   "name": "aichbea"
  },
  "language_info": {
   "codemirror_mode": {
    "name": "ipython",
    "version": 3
   },
   "file_extension": ".py",
   "mimetype": "text/x-python",
   "name": "python",
   "nbconvert_exporter": "python",
   "pygments_lexer": "ipython3",
   "version": "3.7.7"
  }
 },
 "nbformat": 4,
 "nbformat_minor": 4
}
