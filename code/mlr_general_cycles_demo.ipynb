{
 "cells": [
  {
   "cell_type": "markdown",
   "metadata": {},
   "source": [
    "## Predict the number of bikers in DC today <img src=\"../images/bicycle32.png\" style=\"float:right\">"
   ]
  },
  {
   "cell_type": "code",
   "execution_count": 1,
   "metadata": {},
   "outputs": [],
   "source": [
    "import numpy as np\n",
    "import pandas as pd\n",
    "import matplotlib.pyplot as plt\n",
    "import seaborn as sns\n",
    "\n",
    "import scipy.stats as stats\n",
    "from sklearn.pipeline import Pipeline\n",
    "from sklearn.model_selection import train_test_split, KFold, cross_val_score, GridSearchCV\n",
    "from sklearn.preprocessing import StandardScaler, PolynomialFeatures\n",
    "from sklearn.linear_model import LinearRegression, LogisticRegression, Ridge, Lasso, ElasticNet\n",
    "from sklearn.neighbors import KNeighborsRegressor, KNeighborsClassifier\n",
    "from sklearn.tree import DecisionTreeRegressor, DecisionTreeClassifier\n",
    "from sklearn.ensemble import BaggingRegressor, RandomForestRegressor, AdaBoostRegressor, BaggingClassifier, RandomForestClassifier, AdaBoostClassifier\n",
    "from sklearn.svm import SVR, SVC\n",
    "from sklearn.metrics import r2_score, mean_squared_error, mean_absolute_error, f1_score\n",
    "\n",
    "from ipywidgets import widgets, interact, interact_manual, fixed\n",
    "from IPython.display import display, clear_output, HTML\n",
    "\n",
    "import warnings\n",
    "warnings.filterwarnings('ignore')\n",
    "pd.options.display.max_columns = 5_000\n",
    "sns.set(style=\"darkgrid\")\n",
    "%matplotlib inline"
   ]
  },
  {
   "cell_type": "code",
   "execution_count": 2,
   "metadata": {},
   "outputs": [],
   "source": [
    "def on_predict_submit(incoming):\n",
    "    # Insert values into dataframe\n",
    "    X_input = []\n",
    "    X_input = pd.DataFrame(columns=['season', 'year', 'month', 'weekday', 'is_holiday','is_workingday', 'weather', 'temp', 'temp_feel', 'humidity', 'windspeed'])\n",
    "    input_variables = [input_month.value, '1', input_month.value, input_weekday.value, input_is_holiday.value, input_is_workingday.value, input_weather.value, input_temp.value/100, input_temp_feel.value/100, input_humidity.value, input_windspeed.value]\n",
    "    X_input.loc[1] = [x for x in input_variables]\n",
    "    map_list = ['season', 'year', 'month', 'weekday', 'is_holiday','is_workingday', 'weather']\n",
    "    X_input = map_to_numeric(X_input, columns=map_list)\n",
    "    X_input = pd.get_dummies(X_input, columns=['is_holiday', 'is_workingday', 'weather'], drop_first=True)\n",
    "    X_input = equalize_features(X_features, X_input)\n",
    "    #print(X_input.info())\n",
    "    print(f\"Predicted users in Washington DC today: {mlr.predict(X_input)[0][0]/10:,.0f}\")"
   ]
  },
  {
   "cell_type": "code",
   "execution_count": 3,
   "metadata": {},
   "outputs": [
    {
     "data": {
      "application/vnd.jupyter.widget-view+json": {
       "model_id": "5deb575ae4dd414f96ff7743795aee2b",
       "version_major": 2,
       "version_minor": 0
      },
      "text/plain": [
       "A Jupyter Widget"
      ]
     },
     "metadata": {},
     "output_type": "display_data"
    },
    {
     "data": {
      "application/vnd.jupyter.widget-view+json": {
       "model_id": "2f29b4cd107144a2a7615ae08fca3d7e",
       "version_major": 2,
       "version_minor": 0
      },
      "text/plain": [
       "A Jupyter Widget"
      ]
     },
     "metadata": {},
     "output_type": "display_data"
    },
    {
     "data": {
      "application/vnd.jupyter.widget-view+json": {
       "model_id": "b9135e32f9c443bf9a689224713ddf92",
       "version_major": 2,
       "version_minor": 0
      },
      "text/plain": [
       "A Jupyter Widget"
      ]
     },
     "metadata": {},
     "output_type": "display_data"
    },
    {
     "data": {
      "application/vnd.jupyter.widget-view+json": {
       "model_id": "2b5f4d7d46184058b328453550157d5c",
       "version_major": 2,
       "version_minor": 0
      },
      "text/plain": [
       "A Jupyter Widget"
      ]
     },
     "metadata": {},
     "output_type": "display_data"
    },
    {
     "data": {
      "application/vnd.jupyter.widget-view+json": {
       "model_id": "7991e9579454433dad6ecf51ff515a01",
       "version_major": 2,
       "version_minor": 0
      },
      "text/plain": [
       "A Jupyter Widget"
      ]
     },
     "metadata": {},
     "output_type": "display_data"
    },
    {
     "data": {
      "application/vnd.jupyter.widget-view+json": {
       "model_id": "2d319b908bd940fc993f0e77cea0820d",
       "version_major": 2,
       "version_minor": 0
      },
      "text/plain": [
       "A Jupyter Widget"
      ]
     },
     "metadata": {},
     "output_type": "display_data"
    },
    {
     "data": {
      "application/vnd.jupyter.widget-view+json": {
       "model_id": "f0130f2cdbbb48a584ee055872357ad3",
       "version_major": 2,
       "version_minor": 0
      },
      "text/plain": [
       "A Jupyter Widget"
      ]
     },
     "metadata": {},
     "output_type": "display_data"
    },
    {
     "data": {
      "application/vnd.jupyter.widget-view+json": {
       "model_id": "d6a5f7027dfc4baf8177046c5cf3dbc0",
       "version_major": 2,
       "version_minor": 0
      },
      "text/plain": [
       "A Jupyter Widget"
      ]
     },
     "metadata": {},
     "output_type": "display_data"
    },
    {
     "data": {
      "application/vnd.jupyter.widget-view+json": {
       "model_id": "d988c463fbec4bed9d89c65431b9ec39",
       "version_major": 2,
       "version_minor": 0
      },
      "text/plain": [
       "A Jupyter Widget"
      ]
     },
     "metadata": {},
     "output_type": "display_data"
    },
    {
     "data": {
      "application/vnd.jupyter.widget-view+json": {
       "model_id": "4efd387c44ae4d148ba8db1728006aff",
       "version_major": 2,
       "version_minor": 0
      },
      "text/plain": [
       "A Jupyter Widget"
      ]
     },
     "metadata": {},
     "output_type": "display_data"
    }
   ],
   "source": [
    "# Input month\n",
    "months = ['Jan', 'Feb', 'Mar', 'Apr', 'May', 'Jun', 'Jul', 'Aug', 'Sep', 'Oct', 'Nov', 'Dec']\n",
    "input_month = widgets.ToggleButtons(\n",
    "    options=months,\n",
    "    description='Month',\n",
    "    disabled=False,\n",
    "    button_style='', # 'success', 'info', 'warning', 'danger' or ''\n",
    "    tooltips=months\n",
    ")\n",
    "display(input_month)\n",
    "\n",
    "# Input weekday\n",
    "weekdays = ['Mon', 'Tue', 'Wed', 'Thu', 'Fri', 'Sat', 'Sun']\n",
    "input_weekday = widgets.ToggleButtons(\n",
    "    options=weekdays,\n",
    "    description='Day',\n",
    "    disabled=False,\n",
    "    button_style='', # 'success', 'info', 'warning', 'danger' or ''\n",
    "    tooltips=weekdays\n",
    ")\n",
    "display(input_weekday)\n",
    "\n",
    "# Input is_workingday\n",
    "is_workingdays = ['Yes', 'No']\n",
    "input_is_workingday = widgets.ToggleButtons(\n",
    "    options=is_workingdays,\n",
    "    description='Work day?',\n",
    "    disabled=False,\n",
    "    button_style='', # 'success', 'info', 'warning', 'danger' or ''\n",
    "    tooltips=is_workingdays\n",
    ")\n",
    "display(input_is_workingday)\n",
    "\n",
    "# Input is_holiday\n",
    "is_holidays = ['Yes', 'No']\n",
    "input_is_holiday = widgets.ToggleButtons(\n",
    "    options=is_holidays,\n",
    "    description='Holiday?',\n",
    "    disabled=False,\n",
    "    button_style='', # 'success', 'info', 'warning', 'danger' or ''\n",
    "    tooltips=is_holidays\n",
    ")\n",
    "display(input_is_holiday)\n",
    "\n",
    "# Input weather\n",
    "weathers = ['Clear', 'Mist', 'Light snow', 'Heavy rain']\n",
    "input_weather = widgets.ToggleButtons(\n",
    "    options=weathers,\n",
    "    description='Weather',\n",
    "    disabled=False,\n",
    "    button_style='', # 'success', 'info', 'warning', 'danger' or ''\n",
    "    tooltips=weathers\n",
    ")\n",
    "display(input_weather)\n",
    "\n",
    "# Input temp\n",
    "input_temp = widgets.FloatSlider(\n",
    "    value=55.0,\n",
    "    min=0,\n",
    "    max=100.0,\n",
    "    step=0.1,\n",
    "    description='Temperature',\n",
    "    disabled=False,\n",
    "    continuous_update=False,\n",
    "    orientation='horizontal',\n",
    "    readout=True,\n",
    "    readout_format='.1f',\n",
    ")\n",
    "display(input_temp)\n",
    "\n",
    "# Input temp_feel\n",
    "input_temp_feel = widgets.FloatSlider(\n",
    "    value=55.0,\n",
    "    min=0,\n",
    "    max=100.0,\n",
    "    step=0.1,\n",
    "    description='Feels like',\n",
    "    disabled=False,\n",
    "    continuous_update=False,\n",
    "    orientation='horizontal',\n",
    "    readout=True,\n",
    "    readout_format='.1f',\n",
    ")\n",
    "display(input_temp_feel)\n",
    "\n",
    "# Input humidity\n",
    "input_humidity = widgets.FloatSlider(\n",
    "    value=0.50,\n",
    "    min=0,\n",
    "    max=1.00,\n",
    "    step=0.01,\n",
    "    description='Humidity',\n",
    "    disabled=False,\n",
    "    continuous_update=False,\n",
    "    orientation='horizontal',\n",
    "    readout=True,\n",
    "    readout_format='.2f',\n",
    ")\n",
    "display(input_humidity)\n",
    "\n",
    "# Input windspeed\n",
    "input_windspeed = widgets.FloatSlider(\n",
    "    value=0.20,\n",
    "    min=0,\n",
    "    max=0.70,\n",
    "    step=0.01,\n",
    "    description='Windspeed',\n",
    "    disabled=False,\n",
    "    continuous_update=False,\n",
    "    orientation='horizontal',\n",
    "    readout=True,\n",
    "    readout_format='.2f',\n",
    ")\n",
    "display(input_windspeed)\n",
    "\n",
    "# Input Predict\n",
    "input_predict = widgets.Button(\n",
    "    value=False,\n",
    "    description='Predict',\n",
    "    disabled=False,\n",
    "    button_style='', # 'success', 'info', 'warning', 'danger' or ''\n",
    "    tooltip='Predict',\n",
    "    icon='check'\n",
    ")\n",
    "display(input_predict)\n",
    "input_predict.on_click(on_predict_submit)"
   ]
  },
  {
   "cell_type": "code",
   "execution_count": 4,
   "metadata": {},
   "outputs": [],
   "source": [
    "def equalize_features(model_features, new_df):\n",
    "    new_features = new_df.columns.tolist()\n",
    "    if set(model_features) != set(new_features):\n",
    "        missing_cols = set(model_features) - set(new_features)\n",
    "        for col in missing_cols:\n",
    "            new_df[col] = 0\n",
    "    \n",
    "    if set(new_features) != set(model_features):\n",
    "        missing_cols = set(new_features) - set(model_features)\n",
    "        new_df = new_df.drop(missing_cols, axis=1)\n",
    "    \n",
    "    new_df = new_df[model_features]\n",
    "    return new_df"
   ]
  },
  {
   "cell_type": "code",
   "execution_count": 5,
   "metadata": {},
   "outputs": [],
   "source": [
    "# Map values to numeric\n",
    "def map_to_numeric(X_input, columns):\n",
    "    for column in columns:\n",
    "        map_dict = get_map_dict(column)\n",
    "        X_input[column] = X_input[column].map(map_dict)\n",
    "    return X_input\n",
    "    \n",
    "def get_map_dict(feature):\n",
    "    map_feature = {\n",
    "    'season': {\n",
    "        'Jan': 4,\n",
    "        'Feb': 4,\n",
    "        'Mar': 1,\n",
    "        'Apr': 1,\n",
    "        'May': 1,\n",
    "        'Jun': 2,\n",
    "        'Jul': 2,\n",
    "        'Aug': 2,\n",
    "        'Sep': 3,\n",
    "        'Oct': 3,\n",
    "        'Nov': 3,\n",
    "        'Dec': 4,\n",
    "        }, \n",
    "    'year': {\n",
    "        '1': 1,\n",
    "        '0': 0\n",
    "        },\n",
    "    'month': {\n",
    "        'Jan': 1,\n",
    "        'Feb': 2,\n",
    "        'Mar': 3,\n",
    "        'Apr': 4,\n",
    "        'May': 5,\n",
    "        'Jun': 6,\n",
    "        'Jul': 7,\n",
    "        'Aug': 8,\n",
    "        'Sep': 9,\n",
    "        'Oct': 10,\n",
    "        'Nov': 11,\n",
    "        'Dec': 12\n",
    "        }, \n",
    "    'weekday': {\n",
    "        'Sun': 0,\n",
    "        'Mon': 1,\n",
    "        'Tue': 2,\n",
    "        'Wed': 3,\n",
    "        'Thu': 4,\n",
    "        'Fri': 5,\n",
    "        'Sat': 6\n",
    "        },\n",
    "    'is_workingday': {\n",
    "        'Yes': 1,\n",
    "        'No': 0\n",
    "        },\n",
    "    'is_holiday': {\n",
    "        'Yes': 1,\n",
    "        'No': 0\n",
    "        },\n",
    "    'weather': {\n",
    "        'Clear': 0,\n",
    "        'Mist': 1,\n",
    "        'Light Snow': 2,\n",
    "        'Heavy Rain': 3\n",
    "        }\n",
    "    }\n",
    "    return map_feature[feature]"
   ]
  },
  {
   "cell_type": "code",
   "execution_count": 6,
   "metadata": {},
   "outputs": [],
   "source": [
    "# Function prepare_data: Rename and rearrange columns and convert to datetime format where appropriate\n",
    "# Input df: dataframe object\n",
    "def prepare_data(df):\n",
    "    # Convert column names to lowercase with spaces replaced by underscores\n",
    "    df.columns = df.columns.str.lower().str.replace(' ', '_').tolist() \n",
    "    # Convert 'dteday' to datetime\n",
    "    df[['dteday']] = df[['dteday']].apply(pd.to_datetime)\n",
    "    # Rename columns\n",
    "    df = df.rename(columns={\n",
    "        'instant': 'id',\n",
    "        'dteday': 'date',\n",
    "        'season': 'season',\n",
    "        'yr': 'year',\n",
    "        'mnth': 'month',\n",
    "        'holiday': 'is_holiday',\n",
    "        'weekday': 'weekday',\n",
    "        'workingday': 'is_workingday',\n",
    "        'weathersit': 'weather',\n",
    "        'temp': 'temp',\n",
    "        'atemp': 'temp_feel',\n",
    "        'hum': 'humdity',\n",
    "        'windspeed': 'windspeed',\n",
    "        'casual': 'casual',\n",
    "        'registered': 'registered',\n",
    "        'cnt': 'count'})\n",
    "    return df"
   ]
  },
  {
   "cell_type": "code",
   "execution_count": 7,
   "metadata": {},
   "outputs": [],
   "source": [
    "# Function count_users_by: Count the number of users in a day ('count') grouped by the category specified\n",
    "#  Input df: dataframe object\n",
    "#        category: the particular column that the count should be grouped by\n",
    "def count_users_by(df, category):\n",
    "    category_sum = df.groupby(category)['count'].sum()\n",
    "    category_count = df.groupby(category)['count'].count()\n",
    "    print(f\"Counts: {category_count}\")\n",
    "    print(f\"Sum: {category_sum}\")\n",
    "    ax = sns.barplot(category_sum.index, category_sum.values)"
   ]
  },
  {
   "cell_type": "code",
   "execution_count": 8,
   "metadata": {},
   "outputs": [],
   "source": [
    "# Function fit_model: Returns optimal fitted model\n",
    "#  Input X: Feature set (from training data)\n",
    "#        y: Target values (from training data)\n",
    "#        model_name: Default='lr'. Abbreviation/name of model (to be used to identify model in Pipeline)\n",
    "#        model_type: Default=LinearRegression(). Model to use to fit data. Must be imported accordingly and corresponds to model_name\n",
    "#        parameters: Default={'polynomial__degree': [1, 2]}. Parameters to be tuned in GridSearchCV. Must correspond to arguments for model_type.\n",
    "def fit_model(X, y, model_name='mlr', model_type=LinearRegression(), parameters={'polynomial__include_bias': False, 'polynomial__degree': [1, 2]}):\n",
    "    # Build pipeline to engineer features and fit model\n",
    "    pm = Pipeline([\n",
    "        ('polynomial', PolynomialFeatures()),\n",
    "        ('scale', StandardScaler()),\n",
    "        (model_name, model_type)\n",
    "    ])\n",
    "    model = pm.fit(X_train, y_train)\n",
    "    \n",
    "    # Build grid using pipeline to fit model\n",
    "    parameters = parameters\n",
    "    grid = GridSearchCV(pm, parameters)\n",
    "    model_optimal = grid.fit(X_train, y_train)\n",
    "\n",
    "    # Print best attributes\n",
    "    best_params = grid.best_params_\n",
    "    best_score = grid.best_score_\n",
    "    #print(f'For model: {model_type}')\n",
    "    #print(f'The best parameters are: {best_params}')\n",
    "    #print(f'The best score is: {best_score:.4f}')\n",
    "    \n",
    "    return model_optimal"
   ]
  },
  {
   "cell_type": "code",
   "execution_count": 9,
   "metadata": {},
   "outputs": [],
   "source": [
    "# Function evaluate_model: Evaluate model\n",
    "#  Input model: Model object containing fitted data\n",
    "#        X_train, X_test, y_train, y_test: Training and testing values for features and target\n",
    "def evaluate_model(model, X_train, X_test, y_train, y_test):\n",
    "    # Evaluate training data\n",
    "    y_hat_train = model.predict(X_train)\n",
    "    kf_train = KFold(shuffle=True, random_state=42)\n",
    "    cvs_train = cross_val_score(model, X_train, y_train, cv=kf_train).mean()\n",
    "    score_train = model.score(X_train, y_train)\n",
    "    rmse_train = np.sqrt(mean_squared_error(y_train, y_hat_train))\n",
    "\n",
    "    # Evaluate testing data\n",
    "    y_hat_test = model.predict(X_test)\n",
    "    kf_test = KFold(shuffle=True, random_state=42)\n",
    "    cvs_test = cross_val_score(model, X_test, y_test, cv=kf_test).mean()\n",
    "    score_test = model.score(X_test, y_test)\n",
    "    rmse_test = np.sqrt(mean_squared_error(y_test, y_hat_test))\n",
    "    \n",
    "    # Print results\n",
    "    #print(f'cvs mean score on training data: {cvs_train:.4f}')\n",
    "    #print(f'cvs mean score on testing data: {cvs_test:.4f}')\n",
    "    \n",
    "    #print(f'Score on training data: {score_train:.4f}')\n",
    "    #print(f'Score on testing data: {score_test:.4f}')\n",
    "    \n",
    "    #print(f'RMSE on training data: {rmse_train:.4f}')\n",
    "    #print(f'RMSE on testing data: {rmse_test:.4f}')"
   ]
  },
  {
   "cell_type": "code",
   "execution_count": 10,
   "metadata": {},
   "outputs": [],
   "source": [
    "# Read in dataset\n",
    "df = pd.read_csv('../data/day.csv')"
   ]
  },
  {
   "cell_type": "code",
   "execution_count": 11,
   "metadata": {},
   "outputs": [],
   "source": [
    "# Prepare dataset\n",
    "df = prepare_data(df)"
   ]
  },
  {
   "cell_type": "code",
   "execution_count": 12,
   "metadata": {},
   "outputs": [],
   "source": [
    "# Identify columns of interest for feature and target set\n",
    "columns_of_interest = df.columns.difference(['id', 'date', 'casual', 'registered'])\n",
    "df = df[columns_of_interest]"
   ]
  },
  {
   "cell_type": "code",
   "execution_count": 13,
   "metadata": {},
   "outputs": [],
   "source": [
    "# Convert nominal variables to categorical\n",
    "df = pd.get_dummies(df, columns=['is_holiday', 'is_workingday', 'weather'], drop_first=True)"
   ]
  },
  {
   "cell_type": "code",
   "execution_count": 14,
   "metadata": {},
   "outputs": [],
   "source": [
    "# Define target and feature variables\n",
    "target = ['count']\n",
    "features = df.columns.difference(['count'])\n",
    "y = df[target]\n",
    "X = df[features]"
   ]
  },
  {
   "cell_type": "markdown",
   "metadata": {},
   "source": [
    "[AccuWeather - Washington DC](https://www.accuweather.com/en/us/washington-dc/20006/daily-weather-forecast/327659?day=1)"
   ]
  },
  {
   "cell_type": "code",
   "execution_count": 15,
   "metadata": {},
   "outputs": [
    {
     "data": {
      "image/png": "[encoded data removed]",
      "text/plain": [
       "<Figure size 432x288 with 2 Axes>"
      ]
     },
     "metadata": {
      "needs_background": "light"
     },
     "output_type": "display_data"
    }
   ],
   "source": [
    "# Discover how feature variables correlate to target\n",
    "df_corr = df.corr()[['count']].sort_values('count', ascending=False)\n",
    "plt.title('Correlation\\nfeature set / count')\n",
    "sns.heatmap(df_corr, cmap='coolwarm', annot=True, vmin=-1, vmax=1);"
   ]
  },
  {
   "cell_type": "code",
   "execution_count": 16,
   "metadata": {},
   "outputs": [],
   "source": [
    "# Split the data into training and testing datasets\n",
    "X_train, X_test, y_train, y_test =  train_test_split(X, y, random_state=42, train_size=0.75)"
   ]
  },
  {
   "cell_type": "code",
   "execution_count": 17,
   "metadata": {},
   "outputs": [],
   "source": [
    "parameters = {\n",
    "    'polynomial__degree': [1, 2, 3],\n",
    "    'mlr__n_jobs': [-2]\n",
    "}\n",
    "mlr = fit_model(X_train, y_train, model_name='mlr', model_type=LinearRegression(), parameters=parameters)"
   ]
  },
  {
   "cell_type": "code",
   "execution_count": 18,
   "metadata": {},
   "outputs": [],
   "source": [
    "evaluate_model(mlr, X_train, X_test, y_train, y_test)"
   ]
  },
  {
   "cell_type": "code",
   "execution_count": 19,
   "metadata": {},
   "outputs": [],
   "source": [
    "y_test_hat = mlr.predict(X_test)\n",
    "predictions = y_test\n",
    "predictions['y_test_hat'] = y_test_hat\n",
    "predictions = predictions.rename(columns={'count': 'y_test'})"
   ]
  },
  {
   "cell_type": "code",
   "execution_count": 20,
   "metadata": {},
   "outputs": [],
   "source": [
    "X_features = X_test.columns.tolist()"
   ]
  },
  {
   "cell_type": "code",
   "execution_count": 21,
   "metadata": {},
   "outputs": [
    {
     "data": {
      "text/html": [
       "<script>\n",
       "code_show=true; \n",
       "function code_toggle() {\n",
       " if (code_show){\n",
       " $('div.input').hide();\n",
       " } else {\n",
       " $('div.input').show();\n",
       " }\n",
       " code_show = !code_show\n",
       "} \n",
       "$( document ).ready(code_toggle);\n",
       "</script><a href=\"javascript:code_toggle()\">Toggle</a> code."
      ],
      "text/plain": [
       "<IPython.core.display.HTML object>"
      ]
     },
     "execution_count": 21,
     "metadata": {},
     "output_type": "execute_result"
    }
   ],
   "source": [
    "HTML('''<script>\n",
    "code_show=true; \n",
    "function code_toggle() {\n",
    " if (code_show){\n",
    " $('div.input').hide();\n",
    " } else {\n",
    " $('div.input').show();\n",
    " }\n",
    " code_show = !code_show\n",
    "} \n",
    "$( document ).ready(code_toggle);\n",
    "</script><a href=\"javascript:code_toggle()\">Toggle</a> code.''')"
   ]
  }
 ],
 "metadata": {
  "kernelspec": {
   "display_name": "Python 3",
   "language": "python",
   "name": "python3"
  },
  "language_info": {
   "codemirror_mode": {
    "name": "ipython",
    "version": 3
   },
   "file_extension": ".py",
   "mimetype": "text/x-python",
   "name": "python",
   "nbconvert_exporter": "python",
   "pygments_lexer": "ipython3",
   "version": "3.6.3"
  }
 },
 "nbformat": 4,
 "nbformat_minor": 2
}
